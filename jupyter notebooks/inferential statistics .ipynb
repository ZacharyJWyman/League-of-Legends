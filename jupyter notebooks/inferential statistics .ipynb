{
 "cells": [
  {
   "cell_type": "markdown",
   "metadata": {},
   "source": [
    "# Examining League of Legends matches at High Elo  "
   ]
  },
  {
   "cell_type": "code",
   "execution_count": 75,
   "metadata": {},
   "outputs": [],
   "source": [
    "import pandas as pd\n",
    "import numpy as np\n",
    "import requests\n",
    "import matplotlib.pyplot as plt \n",
    "import seaborn as sns"
   ]
  },
  {
   "cell_type": "code",
   "execution_count": 76,
   "metadata": {},
   "outputs": [],
   "source": [
    "#retrieve the data \n",
    "path = r\"D:\\Data Science\\Hackathon\\Challenger_Ranked_Games.csv\"\n",
    "games = pd.read_csv(path)"
   ]
  },
  {
   "cell_type": "code",
   "execution_count": 77,
   "metadata": {},
   "outputs": [],
   "source": [
    "#Restrict game duration [15, 60] inclusively in minutes. \n",
    "games = games[games['gameDuraton'] >= 900]\n",
    "games = games[games['gameDuraton'] <= 3600]"
   ]
  },
  {
   "cell_type": "code",
   "execution_count": 78,
   "metadata": {},
   "outputs": [],
   "source": [
    "blue_wins = games['blueWins']\n",
    "red_wins = games['redWins']\n",
    "total_wins = pd.DataFrame(games, columns = ['blueWins', 'redWins'])"
   ]
  },
  {
   "cell_type": "code",
   "execution_count": 104,
   "metadata": {},
   "outputs": [
    {
     "data": {
      "image/png": "[encoded data removed]",
      "text/plain": [
       "<Figure size 360x360 with 1 Axes>"
      ]
     },
     "metadata": {
      "needs_background": "light"
     },
     "output_type": "display_data"
    }
   ],
   "source": [
    "#percentage of wins that blue and red win (challenger games)\n",
    "percent_blue = blue_wins.sum() / len(total_wins) *100\n",
    "percent_red = red_wins.sum() / len(total_wins) * 100\n",
    "percent_blue, percent_red\n",
    "\n",
    "#Plot\n",
    "percents = [percent_blue, percent_red]\n",
    "percents_lb = ['blue', 'red']\n",
    "colors = ['blue', 'red']\n",
    "\n",
    "percents_df = pd.DataFrame({'side': ['blue', 'red'],\n",
    "                            'win (%)': [percent_blue, percent_red]})\n",
    "\n",
    "#Plot statistics\n",
    "fig = sns.catplot(x='side', y='win (%)', kind = 'bar',  data = percents_df, alpha = 0.5)\n",
    "fig.ax.set_ylim(0,100)\n",
    "fig.ax.set_title('Win Rate by Starting Side')\n",
    "for p in fig.ax.patches:\n",
    "    txt = str(p.get_height().round(2)) + '%'\n",
    "    txt_x = p.get_x() + p.get_width()/3\n",
    "    txt_y = p.get_height()\n",
    "    fig.ax.text(txt_x, txt_y, txt)"
   ]
  },
  {
   "cell_type": "markdown",
   "metadata": {},
   "source": [
    "Win percentage looks to be about a 50-50 spread which is what we would expect. There should be equal opportunity to win a game of league."
   ]
  },
  {
   "cell_type": "code",
   "execution_count": 112,
   "metadata": {},
   "outputs": [
    {
     "data": {
      "image/png": "[encoded data removed]",
      "text/plain": [
       "<Figure size 360x360 with 1 Axes>"
      ]
     },
     "metadata": {
      "needs_background": "light"
     },
     "output_type": "display_data"
    }
   ],
   "source": [
    "#Which side got firswt blood. \n",
    "blue_fb = games['blueFirstBlood']\n",
    "red_fb = games['redFirstBlood']\n",
    "\n",
    "percent_blue = blue_fb.sum() / len(blue_fb) * 100 \n",
    "percent_red = red_fb.sum() / len(red_fb) * 100 \n",
    "\n",
    "percents_df = pd.DataFrame({'side': ['blue', 'red'],\n",
    "                            'percentage': [percent_blue, percent_red]})\n",
    "\n",
    "#Plot statistics\n",
    "fig = sns.catplot(x='side', y='percentage', kind = 'bar',  data = percents_df, alpha = 0.5)\n",
    "fig.ax.set_ylim(0,100)\n",
    "fig.ax.set_title(\"Which Side got First Blood\")\n",
    "for p in fig.ax.patches:\n",
    "    txt = str(p.get_height().round(2)) + '%'\n",
    "    txt_x = p.get_x() + p.get_width()/3\n",
    "    txt_y = p.get_height()\n",
    "    fig.ax.text(txt_x, txt_y, txt)"
   ]
  },
  {
   "cell_type": "markdown",
   "metadata": {},
   "source": [
    "The analysis suggests that at high elo, the blue side gets first blood about 1% more of the time than the red side. Starting side should be a 50 - 50 spread, however the data suggests that starting on the blue side may give players a hands up on securing that first blood! This could be due to the way the map is setup and how the most played junglers path!"
   ]
  },
  {
   "cell_type": "code",
   "execution_count": 81,
   "metadata": {},
   "outputs": [],
   "source": [
    "#examine vision score \n",
    "blue_vision_score = games['blueWardPlaced'] + games['blueWardkills']\n",
    "red_vision_score = games['redWardPlaced'] + games['redWardkills']\n"
   ]
  },
  {
   "cell_type": "code",
   "execution_count": 82,
   "metadata": {},
   "outputs": [],
   "source": [
    "blue_tot_vis = blue_vision_score.sum() / len(blue_vision_score)"
   ]
  },
  {
   "cell_type": "code",
   "execution_count": 83,
   "metadata": {},
   "outputs": [],
   "source": [
    "red_tot_vis = red_vision_score.sum() / len(red_vision_score)"
   ]
  },
  {
   "cell_type": "code",
   "execution_count": 84,
   "metadata": {},
   "outputs": [
    {
     "data": {
      "text/html": [
       "<div>\n",
       "<style scoped>\n",
       "    .dataframe tbody tr th:only-of-type {\n",
       "        vertical-align: middle;\n",
       "    }\n",
       "\n",
       "    .dataframe tbody tr th {\n",
       "        vertical-align: top;\n",
       "    }\n",
       "\n",
       "    .dataframe thead th {\n",
       "        text-align: right;\n",
       "    }\n",
       "</style>\n",
       "<table border=\"1\" class=\"dataframe\">\n",
       "  <thead>\n",
       "    <tr style=\"text-align: right;\">\n",
       "      <th></th>\n",
       "      <th>side</th>\n",
       "      <th>vision score</th>\n",
       "    </tr>\n",
       "  </thead>\n",
       "  <tbody>\n",
       "    <tr>\n",
       "      <th>0</th>\n",
       "      <td>blue</td>\n",
       "      <td>84.922572</td>\n",
       "    </tr>\n",
       "    <tr>\n",
       "      <th>1</th>\n",
       "      <td>red</td>\n",
       "      <td>84.671737</td>\n",
       "    </tr>\n",
       "  </tbody>\n",
       "</table>\n",
       "</div>"
      ],
      "text/plain": [
       "   side  vision score\n",
       "0  blue     84.922572\n",
       "1   red     84.671737"
      ]
     },
     "execution_count": 84,
     "metadata": {},
     "output_type": "execute_result"
    }
   ],
   "source": [
    "vision = pd.DataFrame({'side': ['blue', 'red'],\n",
    "                      'vision score': [blue_tot_vis, red_tot_vis]})\n",
    "vision"
   ]
  },
  {
   "cell_type": "markdown",
   "metadata": {},
   "source": [
    "Vision in League of Legends matches is critical to success. With wards, players can avoide deaths to jungler ganks and roams. We can see that both red and blue sides have about the same vision score. While not suprising a cool statistics to follow up on would be to see the average vision score by division. I would assume that higher elo will result in a much higher vision score. For the scope of this project, we only are going to use challenger games and thus will not delve into this statistic further. "
   ]
  },
  {
   "cell_type": "code",
   "execution_count": 85,
   "metadata": {},
   "outputs": [],
   "source": [
    "wins_blue_fb = games[games['blueFirstBlood'] == 1]['blueWins']\n",
    "fb_blue_wr = wins_blue_fb.sum() / len(wins_blue_fb) * 100"
   ]
  },
  {
   "cell_type": "code",
   "execution_count": 86,
   "metadata": {},
   "outputs": [],
   "source": [
    "wins_red_fb = games[games['redFirstBlood'] == 1]['redWins']\n",
    "fb_red_wr = wins_red_fb.sum() / len(wins_red_fb) * 100"
   ]
  },
  {
   "cell_type": "code",
   "execution_count": 106,
   "metadata": {},
   "outputs": [
    {
     "data": {
      "image/png": "[encoded data removed]",
      "text/plain": [
       "<Figure size 360x360 with 1 Axes>"
      ]
     },
     "metadata": {
      "needs_background": "light"
     },
     "output_type": "display_data"
    }
   ],
   "source": [
    "percents_df = pd.DataFrame({'side': ['blue', 'red'],\n",
    "                            'win (%)': [fb_blue_wr, fb_red_wr]})\n",
    "\n",
    "#Plot statistics\n",
    "fig = sns.catplot(x='side', y='win (%)', kind = 'bar',  data = percents_df, alpha = 0.5)\n",
    "fig.ax.set_ylim(0,100)\n",
    "fig.ax.set_title(\"Win Rate by First Blood\")\n",
    "for p in fig.ax.patches:\n",
    "    txt = str(p.get_height().round(2)) + '%'\n",
    "    txt_x = p.get_x() + p.get_width()/3\n",
    "    txt_y = p.get_height()\n",
    "    fig.ax.text(txt_x, txt_y, txt)\n"
   ]
  },
  {
   "cell_type": "markdown",
   "metadata": {},
   "source": [
    "Definitely want to secure that first blood! The side that does so has 60% chance to win. This can be due to snowballing or ability to roam to other lanes."
   ]
  },
  {
   "cell_type": "code",
   "execution_count": 88,
   "metadata": {},
   "outputs": [],
   "source": [
    "#first tower win rate for blue\n",
    "wins_blue_ft = games[games['blueFirstTower'] == 1]['blueWins']\n",
    "ft_blue_wr = wins_blue_ft.sum() / len(wins_blue_ft) * 100"
   ]
  },
  {
   "cell_type": "code",
   "execution_count": 89,
   "metadata": {},
   "outputs": [],
   "source": [
    "#first tower win rate for red\n",
    "wins_red_ft = games[games['redFirstTower'] == 1]['redWins']\n",
    "ft_red_wr = wins_red_ft.sum() / len(wins_red_ft) * 100"
   ]
  },
  {
   "cell_type": "code",
   "execution_count": 107,
   "metadata": {},
   "outputs": [
    {
     "data": {
      "image/png": "[encoded data removed]",
      "text/plain": [
       "<Figure size 360x360 with 1 Axes>"
      ]
     },
     "metadata": {
      "needs_background": "light"
     },
     "output_type": "display_data"
    }
   ],
   "source": [
    "percents_df = pd.DataFrame({'side': ['blue', 'red'],\n",
    "                            'win (%)': [ft_blue_wr, ft_red_wr]})\n",
    "\n",
    "#Plot statistics\n",
    "fig = sns.catplot(x='side', y='win (%)', kind = 'bar',  data = percents_df, alpha = 0.5)\n",
    "fig.ax.set_ylim(0,100)\n",
    "fig.ax.set_title(\"Win rate by First Tower\")\n",
    "for p in fig.ax.patches:\n",
    "    txt = str(p.get_height().round(2)) + '%'\n",
    "    txt_x = p.get_x() + p.get_width()/3\n",
    "    txt_y = p.get_height()\n",
    "    fig.ax.text(txt_x, txt_y, txt)\n"
   ]
  },
  {
   "cell_type": "markdown",
   "metadata": {},
   "source": [
    "The red side has a 3% chance more to win a game than the blue side given that they secure the first tower. If we look at win rate by first dragon, we see that the blue side has a higher chance and therefore blue side players could be giving up that first tower to secure dragon. "
   ]
  },
  {
   "cell_type": "code",
   "execution_count": 91,
   "metadata": {},
   "outputs": [],
   "source": [
    "#first dragon win rate for blue\n",
    "wins_blue_fd = games[games['blueFirstDragon'] == 1]['blueWins']\n",
    "fd_blue_wr = wins_blue_fd.sum() / len(wins_blue_fd) * 100"
   ]
  },
  {
   "cell_type": "code",
   "execution_count": 92,
   "metadata": {},
   "outputs": [],
   "source": [
    "#first dragon win rate for red\n",
    "wins_red_fd = games[games['redFirstDragon'] == 1]['redWins']\n",
    "fd_red_wr = wins_red_fd.sum() / len(wins_red_fd) * 100"
   ]
  },
  {
   "cell_type": "code",
   "execution_count": 108,
   "metadata": {},
   "outputs": [
    {
     "data": {
      "image/png": "[encoded data removed]",
      "text/plain": [
       "<Figure size 360x360 with 1 Axes>"
      ]
     },
     "metadata": {
      "needs_background": "light"
     },
     "output_type": "display_data"
    }
   ],
   "source": [
    "percents_df = pd.DataFrame({'side': ['blue', 'red'],\n",
    "                            'win (%)': [fd_blue_wr, fd_red_wr]})\n",
    "\n",
    "#Plot statistics\n",
    "fig = sns.catplot(x='side', y='win (%)', kind = 'bar',  data = percents_df, alpha = 0.5)\n",
    "fig.ax.set_ylim(0,100)\n",
    "fig.ax.set_title(\"Win rate by First Dragon\")\n",
    "for p in fig.ax.patches:\n",
    "    txt = str(p.get_height().round(2)) + '%'\n",
    "    txt_x = p.get_x() + p.get_width()/3\n",
    "    txt_y = p.get_height()\n",
    "    fig.ax.text(txt_x, txt_y, txt)\n"
   ]
  },
  {
   "cell_type": "markdown",
   "metadata": {},
   "source": [
    "The blude side has almost a 3% chance more to win a game than the red side given that they secure the first dragon. This offset could be due to the red side having a 3% higher chance of winning when they get the first dragon. The dragon is closer to the blue side's base and therefore could net them the increased chance. "
   ]
  },
  {
   "cell_type": "code",
   "execution_count": 94,
   "metadata": {},
   "outputs": [],
   "source": [
    "#Create boolean array of which team had the most minion kills per match\n",
    "minions_killed = pd.DataFrame(games, columns = ['blueTotalMinionKills', 'redTotalMinionKills'])\n",
    "for idx, series in minions_killed.iterrows():\n",
    "    if series['blueTotalMinionKills'] > series['redTotalMinionKills']:\n",
    "        series.replace(series['blueTotalMinionKills'], value = 1, inplace=True)\n",
    "        series.replace(series['redTotalMinionKills'], value = 0, inplace=True)\n",
    "    else:\n",
    "        series.replace(series['blueTotalMinionKills'], value = 0, inplace=True)\n",
    "        series.replace(series['redTotalMinionKills'], value = 1, inplace=True)"
   ]
  },
  {
   "cell_type": "code",
   "execution_count": 95,
   "metadata": {},
   "outputs": [
    {
     "data": {
      "text/plain": [
       "11750"
      ]
     },
     "execution_count": 95,
     "metadata": {},
     "output_type": "execute_result"
    }
   ],
   "source": [
    "minions_killed['blueTotalMinionKills'].sum()"
   ]
  },
  {
   "cell_type": "code",
   "execution_count": 96,
   "metadata": {},
   "outputs": [
    {
     "data": {
      "text/plain": [
       "13874"
      ]
     },
     "execution_count": 96,
     "metadata": {},
     "output_type": "execute_result"
    }
   ],
   "source": [
    "minions_killed['redTotalMinionKills'].sum()"
   ]
  },
  {
   "cell_type": "code",
   "execution_count": 97,
   "metadata": {},
   "outputs": [],
   "source": [
    "#Find percentage of games that blue had more minion kills.\n",
    "percent_blue_minion_kills = minions_killed['blueTotalMinionKills'].sum() / len(minions_killed['blueTotalMinionKills']) * 100"
   ]
  },
  {
   "cell_type": "code",
   "execution_count": 98,
   "metadata": {},
   "outputs": [],
   "source": [
    "#Find percentage of games that red had more minion kills.\n",
    "percent_red_minion_kills= minions_killed['redTotalMinionKills'].sum() / len(minions_killed['redTotalMinionKills']) * 100"
   ]
  },
  {
   "cell_type": "code",
   "execution_count": 110,
   "metadata": {},
   "outputs": [
    {
     "data": {
      "image/png": "[encoded data removed]",
      "text/plain": [
       "<Figure size 360x360 with 1 Axes>"
      ]
     },
     "metadata": {
      "needs_background": "light"
     },
     "output_type": "display_data"
    }
   ],
   "source": [
    "percents_df = pd.DataFrame({'side': ['blue', 'red'],\n",
    "                            'percentage': [percent_blue_minion_kills, percent_red_minion_kills]})\n",
    "\n",
    "#Plot statistics\n",
    "fig = sns.catplot(x='side', y='percentage', kind = 'bar',  data = percents_df, alpha = 0.5)\n",
    "fig.ax.set_ylim(0,100)\n",
    "fig.ax.set_title(\"Which Side had more Minion Kills\")\n",
    "for p in fig.ax.patches:\n",
    "    txt = str(p.get_height().round(2)) + '%'\n",
    "    txt_x = p.get_x() + p.get_width()/3\n",
    "    txt_y = p.get_height()\n",
    "    fig.ax.text(txt_x, txt_y, txt)\n"
   ]
  },
  {
   "cell_type": "code",
   "execution_count": 100,
   "metadata": {},
   "outputs": [],
   "source": [
    "total_gold = pd.DataFrame(games, columns = ['blueTotalGold', 'redTotalGold'])\n",
    "\n",
    "for idx, series in total_gold.iterrows():\n",
    "    if series['blueTotalGold'] > series['redTotalGold']:\n",
    "        series.replace(series['blueTotalGold'], value = 1, inplace=True)\n",
    "        series.replace(series['redTotalGold'], value = 0, inplace=True)\n",
    "    else:\n",
    "        series.replace(series['blueTotalGold'], value = 0, inplace=True)\n",
    "        series.replace(series['redTotalGold'], value = 1, inplace=True)"
   ]
  },
  {
   "cell_type": "code",
   "execution_count": 101,
   "metadata": {},
   "outputs": [
    {
     "data": {
      "text/plain": [
       "49.954800927563575"
      ]
     },
     "execution_count": 101,
     "metadata": {},
     "output_type": "execute_result"
    }
   ],
   "source": [
    "percent_blue_most_gold = (total_gold['blueTotalGold'].sum() / len(total_gold['blueTotalGold'])) * 100\n",
    "percent_blue_most_gold"
   ]
  },
  {
   "cell_type": "code",
   "execution_count": 102,
   "metadata": {},
   "outputs": [
    {
     "data": {
      "text/plain": [
       "50.049129426561336"
      ]
     },
     "execution_count": 102,
     "metadata": {},
     "output_type": "execute_result"
    }
   ],
   "source": [
    "percent_red_most_gold = total_gold['redTotalGold'].sum() / len(total_gold['blueTotalGold']) * 100\n",
    "percent_red_most_gold"
   ]
  },
  {
   "cell_type": "code",
   "execution_count": 111,
   "metadata": {},
   "outputs": [
    {
     "data": {
      "image/png": "[encoded data removed]",
      "text/plain": [
       "<Figure size 360x360 with 1 Axes>"
      ]
     },
     "metadata": {
      "needs_background": "light"
     },
     "output_type": "display_data"
    }
   ],
   "source": [
    "percents_df = pd.DataFrame({'side': ['blue', 'red'],\n",
    "                            'percentage': [percent_blue_most_gold, percent_red_most_gold]})\n",
    "\n",
    "#Plot statistics\n",
    "fig = sns.catplot(x='side', y='percentage', kind = 'bar',  data = percents_df, alpha = 0.5)\n",
    "fig.ax.set_ylim(0,100)\n",
    "fig.ax.set_title(\"Which Side had more Gold\")\n",
    "for p in fig.ax.patches:\n",
    "    txt = str(p.get_height().round(2)) + '%'\n",
    "    txt_x = p.get_x() + p.get_width()/3\n",
    "    txt_y = p.get_height()\n",
    "    fig.ax.text(txt_x, txt_y, txt)\n"
   ]
  },
  {
   "cell_type": "code",
   "execution_count": null,
   "metadata": {},
   "outputs": [],
   "source": []
  }
 ],
 "metadata": {
  "kernelspec": {
   "display_name": "Python 3",
   "language": "python",
   "name": "python3"
  },
  "language_info": {
   "codemirror_mode": {
    "name": "ipython",
    "version": 3
   },
   "file_extension": ".py",
   "mimetype": "text/x-python",
   "name": "python",
   "nbconvert_exporter": "python",
   "pygments_lexer": "ipython3",
   "version": "3.7.6"
  }
 },
 "nbformat": 4,
 "nbformat_minor": 4
}
